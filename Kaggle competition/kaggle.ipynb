{
 "cells": [
  {
   "cell_type": "code",
   "execution_count": 1,
   "metadata": {},
   "outputs": [],
   "source": [
    "import pandas as pd\n",
    "from collections import Counter\n",
    "import numpy as np\n",
    "from matplotlib import pyplot as plt"
   ]
  },
  {
   "cell_type": "code",
   "execution_count": 2,
   "metadata": {},
   "outputs": [],
   "source": [
    "from sklearn.linear_model import LogisticRegression"
   ]
  },
  {
   "cell_type": "code",
   "execution_count": 3,
   "metadata": {},
   "outputs": [],
   "source": [
    "train_df = pd.read_csv(\"train.csv\")\n",
    "test_df = pd.read_csv(\"test.csv\")"
   ]
  },
  {
   "cell_type": "code",
   "execution_count": 4,
   "metadata": {},
   "outputs": [
    {
     "data": {
      "text/html": [
       "<div>\n",
       "<style scoped>\n",
       "    .dataframe tbody tr th:only-of-type {\n",
       "        vertical-align: middle;\n",
       "    }\n",
       "\n",
       "    .dataframe tbody tr th {\n",
       "        vertical-align: top;\n",
       "    }\n",
       "\n",
       "    .dataframe thead th {\n",
       "        text-align: right;\n",
       "    }\n",
       "</style>\n",
       "<table border=\"1\" class=\"dataframe\">\n",
       "  <thead>\n",
       "    <tr style=\"text-align: right;\">\n",
       "      <th></th>\n",
       "      <th>Id</th>\n",
       "      <th>bathrooms</th>\n",
       "      <th>bedrooms</th>\n",
       "      <th>building_id</th>\n",
       "      <th>created</th>\n",
       "      <th>description</th>\n",
       "      <th>display_address</th>\n",
       "      <th>features</th>\n",
       "      <th>latitude</th>\n",
       "      <th>listing_id</th>\n",
       "      <th>longitude</th>\n",
       "      <th>manager_id</th>\n",
       "      <th>photos</th>\n",
       "      <th>price</th>\n",
       "      <th>street_address</th>\n",
       "      <th>TARGET</th>\n",
       "    </tr>\n",
       "  </thead>\n",
       "  <tbody>\n",
       "    <tr>\n",
       "      <th>0</th>\n",
       "      <td>57094</td>\n",
       "      <td>1.0</td>\n",
       "      <td>3</td>\n",
       "      <td>0</td>\n",
       "      <td>2016-05-19 18:06:27</td>\n",
       "      <td>A FABULOUS 3BR IN MIDTOWN WEST!   PERFECT APAR...</td>\n",
       "      <td>HOW AMAZING IS THIS MIDTOWN WEST STEAL!! NO FE...</td>\n",
       "      <td>['Laundry In Unit', 'No Fee', 'Elevator']</td>\n",
       "      <td>40.7647</td>\n",
       "      <td>7039994</td>\n",
       "      <td>-73.9918</td>\n",
       "      <td>4bdc3d8c1aaa90d997ce2cb77680679b</td>\n",
       "      <td>['https://photos.renthop.com/2/7039994_07be01b...</td>\n",
       "      <td>4495</td>\n",
       "      <td>W 50 &amp; AVE 10</td>\n",
       "      <td>medium</td>\n",
       "    </tr>\n",
       "    <tr>\n",
       "      <th>1</th>\n",
       "      <td>33389</td>\n",
       "      <td>1.0</td>\n",
       "      <td>1</td>\n",
       "      <td>9225efdfb57a50bf3ec17ebab082f94a</td>\n",
       "      <td>2016-06-16 02:01:49</td>\n",
       "      <td>Renovated Kitchen and Bathroom!</td>\n",
       "      <td>55 River Drive South</td>\n",
       "      <td>['Dogs Allowed', 'Cats Allowed', 'No Fee']</td>\n",
       "      <td>40.7275</td>\n",
       "      <td>7166774</td>\n",
       "      <td>-74.0322</td>\n",
       "      <td>e5808a5e6cc13988fe596704428d38d5</td>\n",
       "      <td>['https://photos.renthop.com/2/7166774_03cf63a...</td>\n",
       "      <td>2570</td>\n",
       "      <td>55 River Drive South</td>\n",
       "      <td>medium</td>\n",
       "    </tr>\n",
       "    <tr>\n",
       "      <th>2</th>\n",
       "      <td>60458</td>\n",
       "      <td>1.0</td>\n",
       "      <td>0</td>\n",
       "      <td>320de7d3cc88e50a7fbbcfde1e825d21</td>\n",
       "      <td>2016-05-04 02:42:50</td>\n",
       "      <td>RARE AND BEST DEAL ON THE MARKET!!!! PERFECT S...</td>\n",
       "      <td>W 77 Street</td>\n",
       "      <td>['Elevator', 'Hardwood Floors']</td>\n",
       "      <td>40.7798</td>\n",
       "      <td>6962716</td>\n",
       "      <td>-73.9751</td>\n",
       "      <td>d69d4e111612dd12ef864031c1148543</td>\n",
       "      <td>['https://photos.renthop.com/2/6962716_ec7f56f...</td>\n",
       "      <td>1795</td>\n",
       "      <td>22 W 77 Street</td>\n",
       "      <td>low</td>\n",
       "    </tr>\n",
       "    <tr>\n",
       "      <th>3</th>\n",
       "      <td>53048</td>\n",
       "      <td>1.0</td>\n",
       "      <td>2</td>\n",
       "      <td>ce6d18bf3238e668b2bf23f4110b7b67</td>\n",
       "      <td>2016-05-12 05:57:56</td>\n",
       "      <td>Newly renovated flex 2 apartment offers the ne...</td>\n",
       "      <td>John Street</td>\n",
       "      <td>['Swimming Pool', 'Doorman', 'Elevator', 'Fitn...</td>\n",
       "      <td>40.7081</td>\n",
       "      <td>7002458</td>\n",
       "      <td>-74.0065</td>\n",
       "      <td>e6472c7237327dd3903b3d6f6a94515a</td>\n",
       "      <td>['https://photos.renthop.com/2/7002458_93f4010...</td>\n",
       "      <td>3400</td>\n",
       "      <td>100 John Street</td>\n",
       "      <td>low</td>\n",
       "    </tr>\n",
       "    <tr>\n",
       "      <th>4</th>\n",
       "      <td>592</td>\n",
       "      <td>1.0</td>\n",
       "      <td>3</td>\n",
       "      <td>fee4d465932160318364d9d48d272879</td>\n",
       "      <td>2016-06-16 06:06:15</td>\n",
       "      <td>LOW FEE apartments do not come around like thi...</td>\n",
       "      <td>West 16th Street</td>\n",
       "      <td>['Laundry in Building', 'Laundry in Unit', 'Di...</td>\n",
       "      <td>40.7416</td>\n",
       "      <td>7170465</td>\n",
       "      <td>-74.0025</td>\n",
       "      <td>6fba9b3a8327c607b8b043716efee684</td>\n",
       "      <td>['https://photos.renthop.com/2/7170465_9c3f173...</td>\n",
       "      <td>5695</td>\n",
       "      <td>321 West 16th Street</td>\n",
       "      <td>low</td>\n",
       "    </tr>\n",
       "  </tbody>\n",
       "</table>\n",
       "</div>"
      ],
      "text/plain": [
       "      Id  bathrooms  bedrooms                       building_id  \\\n",
       "0  57094        1.0         3                                 0   \n",
       "1  33389        1.0         1  9225efdfb57a50bf3ec17ebab082f94a   \n",
       "2  60458        1.0         0  320de7d3cc88e50a7fbbcfde1e825d21   \n",
       "3  53048        1.0         2  ce6d18bf3238e668b2bf23f4110b7b67   \n",
       "4    592        1.0         3  fee4d465932160318364d9d48d272879   \n",
       "\n",
       "               created                                        description  \\\n",
       "0  2016-05-19 18:06:27  A FABULOUS 3BR IN MIDTOWN WEST!   PERFECT APAR...   \n",
       "1  2016-06-16 02:01:49                    Renovated Kitchen and Bathroom!   \n",
       "2  2016-05-04 02:42:50  RARE AND BEST DEAL ON THE MARKET!!!! PERFECT S...   \n",
       "3  2016-05-12 05:57:56  Newly renovated flex 2 apartment offers the ne...   \n",
       "4  2016-06-16 06:06:15  LOW FEE apartments do not come around like thi...   \n",
       "\n",
       "                                     display_address  \\\n",
       "0  HOW AMAZING IS THIS MIDTOWN WEST STEAL!! NO FE...   \n",
       "1                               55 River Drive South   \n",
       "2                                        W 77 Street   \n",
       "3                                        John Street   \n",
       "4                                   West 16th Street   \n",
       "\n",
       "                                            features  latitude  listing_id  \\\n",
       "0          ['Laundry In Unit', 'No Fee', 'Elevator']   40.7647     7039994   \n",
       "1         ['Dogs Allowed', 'Cats Allowed', 'No Fee']   40.7275     7166774   \n",
       "2                    ['Elevator', 'Hardwood Floors']   40.7798     6962716   \n",
       "3  ['Swimming Pool', 'Doorman', 'Elevator', 'Fitn...   40.7081     7002458   \n",
       "4  ['Laundry in Building', 'Laundry in Unit', 'Di...   40.7416     7170465   \n",
       "\n",
       "   longitude                        manager_id  \\\n",
       "0   -73.9918  4bdc3d8c1aaa90d997ce2cb77680679b   \n",
       "1   -74.0322  e5808a5e6cc13988fe596704428d38d5   \n",
       "2   -73.9751  d69d4e111612dd12ef864031c1148543   \n",
       "3   -74.0065  e6472c7237327dd3903b3d6f6a94515a   \n",
       "4   -74.0025  6fba9b3a8327c607b8b043716efee684   \n",
       "\n",
       "                                              photos  price  \\\n",
       "0  ['https://photos.renthop.com/2/7039994_07be01b...   4495   \n",
       "1  ['https://photos.renthop.com/2/7166774_03cf63a...   2570   \n",
       "2  ['https://photos.renthop.com/2/6962716_ec7f56f...   1795   \n",
       "3  ['https://photos.renthop.com/2/7002458_93f4010...   3400   \n",
       "4  ['https://photos.renthop.com/2/7170465_9c3f173...   5695   \n",
       "\n",
       "         street_address  TARGET  \n",
       "0         W 50 & AVE 10  medium  \n",
       "1  55 River Drive South  medium  \n",
       "2        22 W 77 Street     low  \n",
       "3       100 John Street     low  \n",
       "4  321 West 16th Street     low  "
      ]
     },
     "execution_count": 4,
     "metadata": {},
     "output_type": "execute_result"
    }
   ],
   "source": [
    "train_df.head()"
   ]
  },
  {
   "cell_type": "code",
   "execution_count": 9,
   "metadata": {},
   "outputs": [
    {
     "data": {
      "text/plain": [
       "Id                   int64\n",
       "bathrooms          float64\n",
       "bedrooms             int64\n",
       "building_id         object\n",
       "created             object\n",
       "description         object\n",
       "display_address     object\n",
       "features            object\n",
       "latitude           float64\n",
       "listing_id           int64\n",
       "longitude          float64\n",
       "manager_id          object\n",
       "photos              object\n",
       "price                int64\n",
       "street_address      object\n",
       "TARGET              object\n",
       "dtype: object"
      ]
     },
     "execution_count": 9,
     "metadata": {},
     "output_type": "execute_result"
    }
   ],
   "source": [
    "train_df.dtypes"
   ]
  },
  {
   "cell_type": "markdown",
   "metadata": {},
   "source": [
    "**id** - вряд ли хороший признак <br/>\n",
    "**bathrooms** - хороший признак, малое разнообразие значений <br/>\n",
    "**bedrooms** - хороший признак<br/>\n",
    "**created** - дата, возможно хороший признак <br/>\n",
    "**discription** - может получится выделить ключевые слова <br/>\n",
    "**display_address** - пока не знаю <br/>\n",
    "**features** - вероятно, полезные признаки <br/>\n",
    "**latitude** - хороший признак <br/>\n",
    "**listing_id** - вряд ли хороший признак <br/>\n",
    "**longitude** - хороший признак <br/>\n",
    "**manager_id** - не самый плохой признак, может попробую<br/>\n",
    "**photo** - пока использовать не хватит сил<br/>\n",
    "**price** - хороший признак <br/>\n",
    "**street_address** - пока не знаю "
   ]
  },
  {
   "cell_type": "markdown",
   "metadata": {},
   "source": [
    "Преобразуем фичи из строки в массив фич"
   ]
  },
  {
   "cell_type": "code",
   "execution_count": 5,
   "metadata": {},
   "outputs": [],
   "source": [
    "def makefeatures(x):\n",
    "    object = x.replace(\"[\",\"\").replace(\"]\",\"\").replace(\"'\",\"\").split(\",\")\n",
    "    return object"
   ]
  },
  {
   "cell_type": "code",
   "execution_count": 6,
   "metadata": {},
   "outputs": [],
   "source": [
    "train_df.features = train_df.features.apply(lambda x: makefeatures(x))\n",
    "test_df.features = test_df.features.apply(lambda x: makefeatures(x))"
   ]
  },
  {
   "cell_type": "markdown",
   "metadata": {},
   "source": [
    "Преобразуем Target в циферки"
   ]
  },
  {
   "cell_type": "code",
   "execution_count": 12,
   "metadata": {},
   "outputs": [],
   "source": [
    "classes = {\n",
    "    'low': 0,\n",
    "    'medium': 1,\n",
    "    'high' : 2\n",
    "       }"
   ]
  },
  {
   "cell_type": "code",
   "execution_count": 13,
   "metadata": {},
   "outputs": [],
   "source": [
    "train_df[\"TARGET\"] = train_df[\"TARGET\"].apply(lambda x: classes[x])"
   ]
  },
  {
   "cell_type": "code",
   "execution_count": 14,
   "metadata": {},
   "outputs": [],
   "source": [
    "X = train_df.drop([\"Id\",\"building_id\",\"created\",\"description\",\"display_address\",\"features\",\"manager_id\",\"photos\",\"street_address\",\"TARGET\"],axis = 1)\n",
    "Y = train_df[\"TARGET\"]"
   ]
  },
  {
   "cell_type": "code",
   "execution_count": 15,
   "metadata": {},
   "outputs": [],
   "source": [
    "Y_test = test_df.drop([\"Id\",\"building_id\",\"created\",\"description\",\"display_address\",\"features\",\"manager_id\",\"photos\",\"street_address\"],axis = 1)"
   ]
  },
  {
   "cell_type": "code",
   "execution_count": 16,
   "metadata": {},
   "outputs": [
    {
     "data": {
      "text/html": [
       "<div>\n",
       "<style scoped>\n",
       "    .dataframe tbody tr th:only-of-type {\n",
       "        vertical-align: middle;\n",
       "    }\n",
       "\n",
       "    .dataframe tbody tr th {\n",
       "        vertical-align: top;\n",
       "    }\n",
       "\n",
       "    .dataframe thead th {\n",
       "        text-align: right;\n",
       "    }\n",
       "</style>\n",
       "<table border=\"1\" class=\"dataframe\">\n",
       "  <thead>\n",
       "    <tr style=\"text-align: right;\">\n",
       "      <th></th>\n",
       "      <th>bathrooms</th>\n",
       "      <th>bedrooms</th>\n",
       "      <th>latitude</th>\n",
       "      <th>listing_id</th>\n",
       "      <th>longitude</th>\n",
       "      <th>price</th>\n",
       "    </tr>\n",
       "  </thead>\n",
       "  <tbody>\n",
       "    <tr>\n",
       "      <th>0</th>\n",
       "      <td>1.0</td>\n",
       "      <td>3</td>\n",
       "      <td>40.7647</td>\n",
       "      <td>7039994</td>\n",
       "      <td>-73.9918</td>\n",
       "      <td>4495</td>\n",
       "    </tr>\n",
       "    <tr>\n",
       "      <th>1</th>\n",
       "      <td>1.0</td>\n",
       "      <td>1</td>\n",
       "      <td>40.7275</td>\n",
       "      <td>7166774</td>\n",
       "      <td>-74.0322</td>\n",
       "      <td>2570</td>\n",
       "    </tr>\n",
       "    <tr>\n",
       "      <th>2</th>\n",
       "      <td>1.0</td>\n",
       "      <td>0</td>\n",
       "      <td>40.7798</td>\n",
       "      <td>6962716</td>\n",
       "      <td>-73.9751</td>\n",
       "      <td>1795</td>\n",
       "    </tr>\n",
       "    <tr>\n",
       "      <th>3</th>\n",
       "      <td>1.0</td>\n",
       "      <td>2</td>\n",
       "      <td>40.7081</td>\n",
       "      <td>7002458</td>\n",
       "      <td>-74.0065</td>\n",
       "      <td>3400</td>\n",
       "    </tr>\n",
       "    <tr>\n",
       "      <th>4</th>\n",
       "      <td>1.0</td>\n",
       "      <td>3</td>\n",
       "      <td>40.7416</td>\n",
       "      <td>7170465</td>\n",
       "      <td>-74.0025</td>\n",
       "      <td>5695</td>\n",
       "    </tr>\n",
       "  </tbody>\n",
       "</table>\n",
       "</div>"
      ],
      "text/plain": [
       "   bathrooms  bedrooms  latitude  listing_id  longitude  price\n",
       "0        1.0         3   40.7647     7039994   -73.9918   4495\n",
       "1        1.0         1   40.7275     7166774   -74.0322   2570\n",
       "2        1.0         0   40.7798     6962716   -73.9751   1795\n",
       "3        1.0         2   40.7081     7002458   -74.0065   3400\n",
       "4        1.0         3   40.7416     7170465   -74.0025   5695"
      ]
     },
     "execution_count": 16,
     "metadata": {},
     "output_type": "execute_result"
    }
   ],
   "source": [
    "X.head()"
   ]
  },
  {
   "cell_type": "code",
   "execution_count": 17,
   "metadata": {},
   "outputs": [],
   "source": [
    "from sklearn.metrics import accuracy_score\n",
    "from sklearn.metrics import precision_score, recall_score, f1_score\n",
    "from sklearn.model_selection import train_test_split, cross_val_score"
   ]
  },
  {
   "cell_type": "code",
   "execution_count": 18,
   "metadata": {},
   "outputs": [],
   "source": [
    "def accuracy(y_real, y_pred):\n",
    "  return np.where(y_pred == y_real)[0].shape[0] / y_real.shape[0]\n",
    "\n",
    "def precision(y_real, y_pred):\n",
    "    return np.where((y_pred == 1) & (y_real == 1))[0].shape[0] / np.where(y_pred == 1)[0].shape[0]\n",
    "\n",
    "def recall(y_real, y_pred):\n",
    "    return np.where((y_pred == 1) & (y_real == 1))[0].shape[0] / np.where(y_real == 1)[0].shape[0]"
   ]
  },
  {
   "cell_type": "code",
   "execution_count": 19,
   "metadata": {},
   "outputs": [],
   "source": [
    "X_train, X_test, y_train, y_test = train_test_split(X, Y, test_size=0.2, random_state=42)"
   ]
  },
  {
   "cell_type": "code",
   "execution_count": 21,
   "metadata": {},
   "outputs": [
    {
     "name": "stdout",
     "output_type": "stream",
     "text": [
      "Для bathrooms метрика 0.694696927328372\n",
      "Для bedrooms метрика 0.5560766918461815\n",
      "Для latitude метрика 0.6600473385770234\n",
      "Для listing_id метрика 0.6573265140646892\n",
      "Для longitude метрика 0.6542000859216119\n",
      "Для price метрика 0.6565157424856817\n"
     ]
    }
   ],
   "source": [
    "from sklearn.neighbors import KNeighborsClassifier\n",
    "\n",
    "\n",
    "for column in X.columns:\n",
    "  errors = np.mean(cross_val_score(KNeighborsClassifier(n_neighbors=5), X[column].values.reshape(-1, 1), Y, cv=5, scoring='accuracy'))\n",
    "  print(f\"Для {column} метрика {errors}\")"
   ]
  },
  {
   "cell_type": "code",
   "execution_count": null,
   "metadata": {},
   "outputs": [],
   "source": [
    "m_f2_log = []\n",
    "from sklearn.metrics import fbeta_score\n",
    "from itertools import product\n",
    "\n",
    "weights = range(1, 11)\n",
    "\n",
    "min_err_log=0\n",
    "\n",
    "for a in [p for p in product(weights, repeat=3)]:\n",
    "        a=list(a)\n",
    "        m_log_reg_w = LogisticRegression(class_weight={0:a[0], 1:a[1], 2:a[2]}, max_iter=1000)\n",
    "        m_log_reg_w.fit(X_train,y_train)\n",
    "        errors = np.mean(cross_val_score(m_log_reg_w, X.values.reshape(-1, 6), Y, cv=5, scoring='f1_macro'))\n",
    "        if errors>min_err_log:\n",
    "            m_f2_log.append(errors)\n",
    "            print(f\"Построение Log модели при weight = {a} завершено. Метрика F2: {errors}\")\n",
    "            min_err_log=errors"
   ]
  },
  {
   "cell_type": "markdown",
   "metadata": {},
   "source": [
    "Построение Log модели при weight = [1, 1, 1] завершено. Метрика F2: 0.27327594016321227</br>\n",
    "Построение Log модели при weight = [1, 1, 2] завершено. Метрика F2: 0.27379482095611085</br>\n",
    "Построение Log модели при weight = [1, 1, 3] завершено. Метрика F2: 0.3251895786807228</br>\n",
    "Построение Log модели при weight = [1, 1, 4] завершено. Метрика F2: 0.3631181880467963</br>\n",
    "Построение Log модели при weight = [1, 2, 4] завершено. Метрика F2: 0.36462846702959295</br>\n",
    "Построение Log модели при weight = [1, 2, 5] завершено. Метрика F2: 0.37797044086931886</br>\n",
    "Построение Log модели при weight = [1, 3, 8] завершено. Метрика F2: 0.3852229371801021</br>\n",
    "Построение Log модели при weight = [2, 5, 8] завершено. Метрика F2: 0.39872530122616684</br>"
   ]
  },
  {
   "cell_type": "code",
   "execution_count": 23,
   "metadata": {},
   "outputs": [
    {
     "name": "stderr",
     "output_type": "stream",
     "text": [
      "C:\\Users\\golev\\AppData\\Local\\Packages\\PythonSoftwareFoundation.Python.3.10_qbz5n2kfra8p0\\LocalCache\\local-packages\\Python310\\site-packages\\sklearn\\base.py:443: UserWarning: X has feature names, but LogisticRegression was fitted without feature names\n",
      "  warnings.warn(\n"
     ]
    }
   ],
   "source": [
    "reg = LogisticRegression(class_weight={0:2, 1:5, 2:9}, max_iter=1000)\n",
    "reg.fit(X.values.reshape(-1, 6), Y)\n",
    "y_pred = reg.predict(Y_test)"
   ]
  },
  {
   "cell_type": "code",
   "execution_count": 24,
   "metadata": {},
   "outputs": [],
   "source": [
    "from sklearn.model_selection import cross_val_predict"
   ]
  },
  {
   "cell_type": "code",
   "execution_count": 28,
   "metadata": {},
   "outputs": [],
   "source": [
    "y_pred = cross_val_predict(LogisticRegression(class_weight={0:2, 1:5, 2:9}, max_iter=1000), X, Y,cv=3)"
   ]
  },
  {
   "cell_type": "code",
   "execution_count": 29,
   "metadata": {},
   "outputs": [],
   "source": [
    "from sklearn.metrics import mean_squared_error as rmse"
   ]
  },
  {
   "cell_type": "markdown",
   "metadata": {},
   "source": [
    "KNN"
   ]
  },
  {
   "cell_type": "code",
   "execution_count": 30,
   "metadata": {},
   "outputs": [
    {
     "name": "stdout",
     "output_type": "stream",
     "text": [
      "Accuracy : 0.6575\n",
      "Precision : 0.2769\n",
      "Recall : 0.1501\n"
     ]
    }
   ],
   "source": [
    "knn = KNeighborsClassifier(n_neighbors=5)\n",
    "knn.fit(X_train[\"price\"].values.reshape(-1, 1),y_train)\n",
    "y_pred = knn.predict(X_test[\"price\"].values.reshape(-1, 1))\n",
    "print(f\"Accuracy : {accuracy( y_test, y_pred):.4f}\")\n",
    "print(f\"Precision : {precision( y_test, y_pred):.4f}\")\n",
    "print(f\"Recall : {recall(y_test, y_pred):.4f}\")"
   ]
  },
  {
   "cell_type": "markdown",
   "metadata": {},
   "source": [
    "LOGRES"
   ]
  },
  {
   "cell_type": "code",
   "execution_count": 31,
   "metadata": {},
   "outputs": [
    {
     "name": "stdout",
     "output_type": "stream",
     "text": [
      "Accuracy : 0.7013\n",
      "Recall : 0.0000\n"
     ]
    }
   ],
   "source": [
    "reg = LogisticRegression()\n",
    "reg.fit(X_train.values.reshape(-1, 6),y_train)\n",
    "y_pred = reg.predict(X_test.values.reshape(-1, 6))\n",
    "print(f\"Accuracy : {accuracy( y_test, y_pred):.4f}\")\n",
    "print(f\"Recall : {recall(y_test, y_pred):.4f}\")"
   ]
  },
  {
   "cell_type": "markdown",
   "metadata": {},
   "source": [
    "CatBoostRegressor"
   ]
  },
  {
   "cell_type": "code",
   "execution_count": 36,
   "metadata": {},
   "outputs": [],
   "source": [
    "from catboost import CatBoostClassifier,CatBoostRegressor"
   ]
  },
  {
   "cell_type": "code",
   "execution_count": 49,
   "metadata": {},
   "outputs": [
    {
     "name": "stdout",
     "output_type": "stream",
     "text": [
      "Accuracy : 0.7234\n",
      "Precision : 0.4649\n",
      "Recall : 0.2040\n"
     ]
    }
   ],
   "source": [
    "cat = CatBoostClassifier(silent = True)\n",
    "cat.fit(X_train.values.reshape(-1, 6),y_train)\n",
    "y_pred = cat.predict(X_test.values.reshape(-1, 6))\n",
    "print(f\"Accuracy : {accuracy( y_test, y_pred.reshape(-1)):.4f}\")\n",
    "print(f\"Precision : {precision( y_test, y_pred.reshape(-1)):.4f}\")\n",
    "print(f\"Recall : {recall(y_test, y_pred.reshape(-1)):.4f}\")"
   ]
  },
  {
   "cell_type": "code",
   "execution_count": 40,
   "metadata": {},
   "outputs": [
    {
     "name": "stderr",
     "output_type": "stream",
     "text": [
      "Custom logger is already specified. Specify more than one logger at same time is not thread safe."
     ]
    },
    {
     "name": "stdout",
     "output_type": "stream",
     "text": [
      "......\n",
      "\n",
      "......\n",
      "\n",
      "......\n",
      "\n",
      "......\n",
      "\n",
      "......\n",
      "\n",
      "......\n",
      "\n",
      "......\n",
      "\n",
      "......\n",
      "\n",
      "......\n",
      "\n",
      "......\n",
      "\n",
      "Best RMSE 0.7234 for rate 0.1 for depth 1\n"
     ]
    }
   ],
   "source": [
    "accuracies=0\n",
    "best_rate = 0\n",
    "best_depth = 0\n",
    "\n",
    "for rate in np.linspace(0.1, 1,10):\n",
    "  for depth in range(1,7,1):\n",
    "    cbr = CatBoostRegressor(learning_rate = rate, depth = depth, iterations = 1000, silent = True, random_state = 42)\n",
    "    cbr.fit(X_train.values.reshape(-1, 6),y_train)\n",
    "    invest_y_pred = cbr.predict(X_test.values.reshape(-1, 6))\n",
    "    if accuracy(y_test, y_pred.reshape(-1)) > accuracies : \n",
    "      accuracies = accuracy(y_test, y_pred.reshape(-1))\n",
    "      best_rate = rate\n",
    "      best_depth = depth\n",
    "    print(\".\",end=\"\")\n",
    "  print(\"\\n\")\n",
    "print(f\"Best RMSE {accuracies:.4f} for rate {best_rate} for depth {best_depth}\")"
   ]
  },
  {
   "cell_type": "markdown",
   "metadata": {},
   "source": [
    "RandomForest"
   ]
  },
  {
   "cell_type": "code",
   "execution_count": 57,
   "metadata": {},
   "outputs": [],
   "source": [
    "from sklearn.ensemble import RandomForestClassifier"
   ]
  },
  {
   "cell_type": "code",
   "execution_count": 59,
   "metadata": {},
   "outputs": [
    {
     "name": "stdout",
     "output_type": "stream",
     "text": [
      "Accuracy : 0.7072\n",
      "Precision : 0.4154\n",
      "Recall : 0.2553\n"
     ]
    }
   ],
   "source": [
    "rfc = RandomForestClassifier(random_state=42)\n",
    "rfc.fit(X_train.values.reshape(-1, 6),y_train)\n",
    "y_pred = rfc.predict(X_test.values.reshape(-1, 6))\n",
    "print(f\"Accuracy : {accuracy( y_test, y_pred.reshape(-1)):.4f}\")\n",
    "print(f\"Precision : {precision( y_test, y_pred.reshape(-1)):.4f}\")\n",
    "print(f\"Recall : {recall(y_test, y_pred.reshape(-1)):.4f}\")"
   ]
  },
  {
   "cell_type": "code",
   "execution_count": 62,
   "metadata": {},
   "outputs": [],
   "source": [
    "parametrs = { 'n_estimators': range (10, 51, 5),\n",
    "              'max_depth': range (1,13, 2)}"
   ]
  },
  {
   "cell_type": "code",
   "execution_count": 60,
   "metadata": {},
   "outputs": [],
   "source": [
    "from sklearn.model_selection import GridSearchCV"
   ]
  },
  {
   "cell_type": "code",
   "execution_count": 63,
   "metadata": {},
   "outputs": [
    {
     "name": "stdout",
     "output_type": "stream",
     "text": [
      "Accuracy : 0.7072\n",
      "Precision : 0.4154\n",
      "Recall : 0.2553\n"
     ]
    }
   ],
   "source": [
    "rfc = RandomForestClassifier(random_state=42)\n",
    "grid = GridSearchCV(rfc, parametrs)\n",
    "grid.fit(X_train.values.reshape(-1, 6),y_train)\n",
    "y2_pred = grid.predict(X_test.values.reshape(-1, 6))\n",
    "print(f\"Accuracy : {accuracy( y_test, y_pred.reshape(-1)):.4f}\")\n",
    "print(f\"Precision : {precision( y_test, y_pred.reshape(-1)):.4f}\")\n",
    "print(f\"Recall : {recall(y_test, y_pred.reshape(-1)):.4f}\")"
   ]
  },
  {
   "cell_type": "markdown",
   "metadata": {},
   "source": [
    "Decision\n"
   ]
  },
  {
   "cell_type": "code",
   "execution_count": 64,
   "metadata": {},
   "outputs": [],
   "source": [
    "from sklearn.tree import DecisionTreeClassifier"
   ]
  },
  {
   "cell_type": "code",
   "execution_count": null,
   "metadata": {},
   "outputs": [],
   "source": [
    "y_pred = knn.predict(test_df.drop([\"Id\",\"building_id\",\"created\",\"description\",\"display_address\",\"features\",\"manager_id\",\"photos\",\"street_address\"],axis = 1))"
   ]
  },
  {
   "cell_type": "code",
   "execution_count": 120,
   "metadata": {},
   "outputs": [
    {
     "data": {
      "text/plain": [
       "Counter({0: 9740, 1: 4396, 2: 670})"
      ]
     },
     "execution_count": 120,
     "metadata": {},
     "output_type": "execute_result"
    }
   ],
   "source": [
    "Counter(y_pred.reshape(-1))"
   ]
  },
  {
   "cell_type": "code",
   "execution_count": 121,
   "metadata": {},
   "outputs": [],
   "source": [
    "inv_classes = {\n",
    "    0: 'low' ,\n",
    "    1:'medium',\n",
    "    2: 'high'\n",
    "       }"
   ]
  },
  {
   "cell_type": "code",
   "execution_count": 122,
   "metadata": {},
   "outputs": [],
   "source": [
    "y_pred = [inv_classes[x] for x in y_pred]\n",
    "result  = pd.DataFrame( columns = ['Id', 'TARGET'])\n",
    "result.Id = test_df.Id\n",
    "result.TARGET = y_pred\n",
    "result.to_csv(\"results.csv\",index=False)"
   ]
  },
  {
   "cell_type": "code",
   "execution_count": 44,
   "metadata": {},
   "outputs": [
    {
     "data": {
      "text/plain": [
       "array([[0],\n",
       "       [0],\n",
       "       [0],\n",
       "       ...,\n",
       "       [0],\n",
       "       [0],\n",
       "       [1]], dtype=int64)"
      ]
     },
     "execution_count": 44,
     "metadata": {},
     "output_type": "execute_result"
    }
   ],
   "source": [
    "y_pred"
   ]
  }
 ],
 "metadata": {
  "kernelspec": {
   "display_name": "Python 3",
   "language": "python",
   "name": "python3"
  },
  "language_info": {
   "codemirror_mode": {
    "name": "ipython",
    "version": 3
   },
   "file_extension": ".py",
   "mimetype": "text/x-python",
   "name": "python",
   "nbconvert_exporter": "python",
   "pygments_lexer": "ipython3",
   "version": "3.10.11"
  },
  "orig_nbformat": 4
 },
 "nbformat": 4,
 "nbformat_minor": 2
}
